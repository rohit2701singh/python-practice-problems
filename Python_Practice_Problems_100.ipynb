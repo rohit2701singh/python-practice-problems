{
  "cells": [
    {
      "cell_type": "markdown",
      "metadata": {
        "id": "view-in-github",
        "colab_type": "text"
      },
      "source": [
        "<a href=\"https://colab.research.google.com/github/rohit2701singh/python-practice-problems/blob/main/Python_Practice_Problems_100.ipynb\" target=\"_parent\"><img src=\"https://colab.research.google.com/assets/colab-badge.svg\" alt=\"Open In Colab\"/></a>"
      ]
    },
    {
      "cell_type": "markdown",
      "metadata": {
        "id": "PtzpygX8oufH"
      },
      "source": [
        "1. User will input (3ages).Find the oldest one"
      ]
    },
    {
      "cell_type": "code",
      "execution_count": null,
      "metadata": {
        "id": "RzXSO-p6o4I0"
      },
      "outputs": [],
      "source": [
        "ages = input('type three ages with space b/w them: ')\n",
        "age_list = ages.split()\n",
        "# oldest_age = 0    # second method\n",
        "# for age in age_list:\n",
        "#     if int(age) > oldest_age:\n",
        "#         oldest_age = int(age)\n",
        "\n",
        "age_list_int = map(int, age_list)\n",
        "oldest_age = max(age_list_int)\n",
        "print(oldest_age)"
      ]
    },
    {
      "cell_type": "markdown",
      "metadata": {
        "id": "k0BCiAeJtOZb"
      },
      "source": [
        "2. Write a program that will convert celsius value to fahrenheit\n",
        " °F = (9/5 * °C) + 32"
      ]
    },
    {
      "cell_type": "code",
      "execution_count": null,
      "metadata": {
        "id": "bfXuhdDHr7Vf"
      },
      "outputs": [],
      "source": [
        "user_input = float(input('type temperature in degree celcius: '))\n",
        "temp_in_fahrenheit = (9/5 * user_input) + 32\n",
        "print(temp_in_fahrenheit)"
      ]
    },
    {
      "cell_type": "markdown",
      "metadata": {
        "id": "peUqP4Er2ctx"
      },
      "source": [
        "3. User will input (2numbers).Write a program to swap the numbers"
      ]
    },
    {
      "cell_type": "code",
      "execution_count": null,
      "metadata": {
        "id": "T8SrPuWV2iq_"
      },
      "outputs": [],
      "source": [
        "first_num = input('type first number: ')\n",
        "second_num = input('type second number: ')\n",
        "\n",
        "c = first_num\n",
        "first_num = second_num\n",
        "second_num = c\n",
        "print(f\"first number: {first_num} and second number: {second_num}\")"
      ]
    },
    {
      "cell_type": "markdown",
      "metadata": {
        "id": "jt7ZDdpN3HBX"
      },
      "source": [
        "4. Write a program that will give you the sum of 3 digits"
      ]
    },
    {
      "cell_type": "code",
      "execution_count": null,
      "metadata": {
        "id": "-41Pouc93NSi",
        "colab": {
          "base_uri": "https://localhost:8080/"
        },
        "outputId": "0d37d22f-797a-4d7d-b61c-d1f45c04da6c"
      },
      "outputs": [
        {
          "output_type": "stream",
          "name": "stdout",
          "text": [
            "type a number: 1234567891\n",
            "sum of digits: 46\n"
          ]
        }
      ],
      "source": [
        "user_input = input('type a number: ')   # 123456\n",
        "# digit_sum = 0     # second method\n",
        "# for digit in user_input:\n",
        "#     digit_sum += int(digit)\n",
        "\n",
        "digit_list = list(user_input)\n",
        "digit_list_int = map(int, digit_list)   # [1,2,3,4,5,6]\n",
        "digit_sum = sum(digit_list_int)\n",
        "print(f\"sum of digits: {digit_sum}\")"
      ]
    },
    {
      "cell_type": "markdown",
      "metadata": {
        "id": "ImOlNbIN4-NQ"
      },
      "source": [
        "5. Write a program that will reverse a four digit number.Also it checks whether the reverse is true."
      ]
    },
    {
      "cell_type": "code",
      "execution_count": null,
      "metadata": {
        "id": "8B7s33D45B20"
      },
      "outputs": [],
      "source": [
        "user_input = input('type a number: ')\n",
        "# digit_list = list(user_input)  # or use [digit for digit in user_input]   # second method\n",
        "# reverse_num = ''.join(reversed(digit_list))\n",
        "\n",
        "reverse_num = user_input[::-1]\n",
        "print(f\"reverse number is: {reverse_num}\")\n",
        "if user_input == reverse_num:\n",
        "    print('both are same')\n",
        "else:\n",
        "    print('both are different')"
      ]
    },
    {
      "cell_type": "markdown",
      "metadata": {
        "id": "pRsQdkGg7F-Q"
      },
      "source": [
        "6. Write a program that will tell whether the number entered by the user is odd or even."
      ]
    },
    {
      "cell_type": "code",
      "execution_count": null,
      "metadata": {
        "id": "5bGi4tJd71BY"
      },
      "outputs": [],
      "source": [
        "user_input = int(input('type number to check: '))\n",
        "if user_input % 2 == 0:\n",
        "    print(\"it's even\")\n",
        "else:\n",
        "    print(\"it's odd\")"
      ]
    },
    {
      "cell_type": "markdown",
      "metadata": {
        "id": "d5TSmwHt8n2z"
      },
      "source": [
        "7. Write a program that will tell whether the given year is a leap year or not."
      ]
    },
    {
      "cell_type": "code",
      "execution_count": null,
      "metadata": {
        "id": "EUoUYHb18o9Z"
      },
      "outputs": [],
      "source": [
        "user_input = int(input('type year you want to check: '))\n",
        "if user_input % 4 == 0:\n",
        "    if user_input % 100 == 0:\n",
        "        if user_input % 400 ==0:\n",
        "            print(\"it's a leap year.\")\n",
        "        else:\n",
        "            print(\"it's not a leap year\")\n",
        "    else:\n",
        "        print(\"it's a leap year.\")\n",
        "else:\n",
        "    print(\"it's not a leap year\")\n"
      ]
    },
    {
      "cell_type": "markdown",
      "metadata": {
        "id": "GTAaqwo89y-W"
      },
      "source": [
        "8. Write a program to find the euclidean distance between two coordinates.\n",
        "d = √[(x2 – x1)2 + (y2 – y1)2]"
      ]
    },
    {
      "cell_type": "code",
      "execution_count": null,
      "metadata": {
        "id": "rX9siTs695NR"
      },
      "outputs": [],
      "source": [
        "user = input(\"type two coordinates in this format x1,y1,x2,y2 : \")   # 2,3,4,5\n",
        "\n",
        "user_input = user.split(',')\n",
        "# first_coordinate = user_input[0:2]    # second method\n",
        "# second_coordinate = user_input[2:4]\n",
        "# print(first_coordinate, second_coordinate)\n",
        "# distance_square = ((float(second_coordinate[0]) - float(first_coordinate[0]) )** 2 + (float(second_coordinate[1]) - float(first_coordinate[1])) ** 2)\n",
        "\n",
        "first_coordinate = list(map(float, user_input[0:2]))    # map return map object like: <map object at 0x7954259d1750>\n",
        "second_coordinate = list (map(float, user_input[2:4]))\n",
        "\n",
        "distance_square = (second_coordinate[0] - first_coordinate[0])** 2 + ((second_coordinate[1]) - first_coordinate[1]) ** 2\n",
        "final_distance = round(distance_square ** 0.5, 3)\n",
        "\n",
        "print(final_distance)"
      ]
    },
    {
      "cell_type": "markdown",
      "metadata": {
        "id": "fX7-4OEVFoQY"
      },
      "source": [
        "9. Write a program that take a user input of three angles and will find out whether it can form a triangle or not.\n"
      ]
    },
    {
      "cell_type": "code",
      "execution_count": null,
      "metadata": {
        "id": "lLMbF5NLFox7"
      },
      "outputs": [],
      "source": [
        "user_input = input(\"type three angles separated with comma: \")\n",
        "angle_list = user_input.split(',')\n",
        "\n",
        "# angle_sum = 0     # second method\n",
        "# for angle in angle_list:\n",
        "#     angle_sum += float(angle)\n",
        "\n",
        "angle_list_float = list(map(float, angle_list))     # we need to convert map object, <map object at 0x7954535b6470>, to a list\n",
        "angle_sum = sum(angle_list_float)\n",
        "print(angle_sum)\n",
        "\n",
        "if angle_sum == 180 and 0 not in angle_list_float:\n",
        "    print('Angles can form triangle')\n",
        "else:\n",
        "    print(\"triangle can't be formed\")"
      ]
    },
    {
      "cell_type": "markdown",
      "metadata": {
        "id": "PvL4Hd_WKgfq"
      },
      "source": [
        "10. Write a program that will take user input of cost price and selling price and determines whether its a loss or a profit"
      ]
    },
    {
      "cell_type": "code",
      "execution_count": null,
      "metadata": {
        "id": "jSzebsz4KnIt"
      },
      "outputs": [],
      "source": [
        "cost_price = float(input(\"type cost price of item: \"))\n",
        "sell_price = float(input(\"type selling price of item: \"))\n",
        "\n",
        "if cost_price == sell_price:\n",
        "    print(\"no profit or loss\")\n",
        "elif cost_price > sell_price:\n",
        "    print(\"you are in loss\")\n",
        "elif sell_price > cost_price:\n",
        "    print(\"you are in profit\")"
      ]
    },
    {
      "cell_type": "markdown",
      "source": [
        "11. Write a program to find the simple interest when the value of principle,rate of interest and time period is given"
      ],
      "metadata": {
        "id": "rLjGGaDhrkC1"
      }
    },
    {
      "cell_type": "code",
      "source": [
        "initial_amount = float(input(\"type principal amount: \"))\n",
        "rate = float(input(\"type interest rate: \"))\n",
        "time = float(input(\"type time period: \"))\n",
        "\n",
        "simple_interest = (initial_amount * rate * time)/100\n",
        "print(f\"simple_interest is {simple_interest}\")"
      ],
      "metadata": {
        "id": "HvyCl6I2rre4"
      },
      "execution_count": null,
      "outputs": []
    },
    {
      "cell_type": "markdown",
      "source": [
        "12. Write a program to find the volume of the cylinder. Also find the cost when the cost of 1litre milk is 40Rs <br>\n",
        "V=πr^2h\n",
        "\n"
      ],
      "metadata": {
        "id": "3NQq0uFAs-dJ"
      }
    },
    {
      "cell_type": "code",
      "source": [
        "radius = float(input(\"type radius of cylinder: \"))\n",
        "height = float(input(\"type height of cylinder: \"))\n",
        "volume = round(3.14 * (radius**2) * height, 3)\n",
        "print(f\"volume is: {volume}\")\n",
        "\n",
        "cost = volume * 40\n",
        "print(f\"cost of {volume} liter milk is: Rs{cost}\")"
      ],
      "metadata": {
        "id": "GBQMyePWtCjX"
      },
      "execution_count": null,
      "outputs": []
    },
    {
      "cell_type": "markdown",
      "source": [
        "13. Write  a program that will tell whether the given number is divisible by 3 & 6"
      ],
      "metadata": {
        "id": "U_eOj7fiudl5"
      }
    },
    {
      "cell_type": "code",
      "source": [
        "user_input = int(input(\"type a number: \"))\n",
        "if user_input % 3 == 0 and user_input % 6 == 0:\n",
        "    print(\"number is divisible by 3 and 6\")\n",
        "else:\n",
        "    print(\"number is not divisible by 3 and 6\")"
      ],
      "metadata": {
        "id": "X52zS0yJuigP"
      },
      "execution_count": null,
      "outputs": []
    },
    {
      "cell_type": "markdown",
      "source": [
        "14. Calculate the angle between the hour hand and minute hand.\n",
        "\n",
        "Note: There can be two angles between hands; we need to print a minimum of two. Also, we need to print the floor of the final result angle. For example, if the final angle is 10.61, we need to print 10.\n",
        "\n",
        " Your task is to complete the function getAngle(), which takes 2 Integers H and M as input and returns the answer."
      ],
      "metadata": {
        "id": "UvTI3lUGwv6d"
      }
    },
    {
      "cell_type": "code",
      "source": [
        "# 12hours = 360 degree --> 1 hour = 30 degree --> 1 minute = 0.5 degree\n",
        "# 60 minutes = 360 degree --> 1 minute = 6 degree\n",
        "import math\n",
        "\n",
        "def getAngle(H, M):\n",
        "    h_angle = (H % 12) * 30 + M * 0.5\n",
        "    m_angle = M * 6\n",
        "    angle = abs(h_angle - m_angle)\n",
        "\n",
        "    if angle > 180:\n",
        "        angle = 360 - angle\n",
        "    return math.floor(angle)\n",
        "\n",
        "hour = int(input(\"type hour hand: \"))\n",
        "minute = int(input(\"type minute hand: \"))\n",
        "\n",
        "result = getAngle(H=hour, M=minute)  # 3, 25\n",
        "print(result)"
      ],
      "metadata": {
        "id": "5r6SSRiuxUpn"
      },
      "execution_count": null,
      "outputs": []
    },
    {
      "cell_type": "markdown",
      "source": [
        "15. Given two rectangles, find if the given two rectangles overlap or not. A rectangle is denoted by providing the x and y coordinates of two points: the left top corner and the right bottom corner of the rectangle. Two rectangles sharing a side are considered overlapping. (L1 and R1 are the extreme points of the first rectangle and L2 and R2 are the extreme points of the second rectangle).<br>\n",
        "Input:\n",
        "L1=(0,10),\n",
        "R1=(10,0),\n",
        "L2=(5,5),\n",
        "R2=(15,0)<br>\n",
        "Output:\n",
        "1 (The rectangles overlap.)"
      ],
      "metadata": {
        "id": "gSzhf8xS3Tw0"
      }
    },
    {
      "cell_type": "code",
      "source": [
        "def doOverlap(L1, R1, L2, R2):\n",
        "    # If one rectangle is on left side of other\n",
        "    if L1[0] > R2[0] or L2[0] > R1[0]:\n",
        "        return False\n",
        "\n",
        "    # If one rectangle is above other\n",
        "    if L1[1] < R2[1] or L2[1] < R1[1]:\n",
        "        return False\n",
        "\n",
        "    return True\n",
        "\n",
        "L1 = (0, 10)\n",
        "R1 = (10, 0)\n",
        "L2 = (5, 5)\n",
        "R2 = (15, 0)\n",
        "\n",
        "if doOverlap(L1, R1, L2, R2):\n",
        "    print(\"Rectangles overlap\")\n",
        "else:\n",
        "    print(\"Rectangles don't overlap\")\n"
      ],
      "metadata": {
        "id": "210Qa5D08rsu"
      },
      "execution_count": null,
      "outputs": []
    },
    {
      "cell_type": "markdown",
      "source": [
        "16. Write a program that will determine weather when the value of temperature and humidity is provided by the user.\n",
        "```\n",
        "    TEMPERATURE(C)          HUMIDITY(%)      WEATHER\n",
        "\n",
        "        >= 30                >=90                Hot and Humid\n",
        "        >= 30                < 90                 Hot\n",
        "        <30                  >= 90               Cool and Humid\n",
        "        <30                  <90                 Cool\n",
        "```\n",
        "\n"
      ],
      "metadata": {
        "id": "qUZuRDZZ-d03"
      }
    },
    {
      "cell_type": "code",
      "source": [
        "temp = float(input(\"type the temperature: \"))\n",
        "humidity = float(input(\"type humidity: \"))\n",
        "\n",
        "if temp >= 30:\n",
        "    if humidity >=90:\n",
        "        print(\"weather is: Hot and Humid\")\n",
        "    else:\n",
        "        print(\"weather is: Hot\")\n",
        "else:\n",
        "    if humidity >=90:\n",
        "        print(\"weather is: Cool and Humid\")\n",
        "    else:\n",
        "        print(\"weather is: Cool\")"
      ],
      "metadata": {
        "id": "QrC4vyKM-uyF"
      },
      "execution_count": null,
      "outputs": []
    },
    {
      "cell_type": "markdown",
      "source": [
        "17. Write a program that will take three digits from the user and add the square of each digit."
      ],
      "metadata": {
        "id": "muCua35gBUrD"
      }
    },
    {
      "cell_type": "code",
      "source": [
        "user_input = input(\"type three digits seperated by comma: \")    # 1,2,3\n",
        "digit_list = user_input.split(',')\n",
        "\n",
        "def number_square(num):\n",
        "    return int(num)**2\n",
        "\n",
        "square_num_list = list(map(number_square, digit_list))\n",
        "square_digits_sum = sum(square_num_list)\n",
        "\n",
        "print(square_digits_sum)"
      ],
      "metadata": {
        "id": "MeXMUfMJBezO"
      },
      "execution_count": null,
      "outputs": []
    },
    {
      "cell_type": "markdown",
      "source": [
        "18. Write a program that will check whether the number is armstrong number or not.\n",
        "\n",
        "An Armstrong number is a number that is equal to the sum of its own digits each raised to the power of the number of digits. ex: 1634, its length 4, so power will be 4\n",
        "\n",
        "1^4 + 6^4 + 3^4 + 4^4 = 1 + 1296 + 81 + 256 = 1634\n",
        "\n",
        "other ex: 153, 407, 370, 371"
      ],
      "metadata": {
        "id": "9pElnYEEDXtx"
      }
    },
    {
      "cell_type": "code",
      "source": [
        "user_input = input(\"type a number: \")\n",
        "num_length = len(user_input)\n",
        "num_list = list(user_input)\n",
        "\n",
        "def digit_power(digit, power):\n",
        "    return digit ** power\n",
        "\n",
        "powered_digit_list = [digit_power(int(num), num_length) for num in num_list]\n",
        "list_sum = sum(powered_digit_list)\n",
        "print(list_sum)\n",
        "\n",
        "if int(user_input) == list_sum:\n",
        "    print(\"the number is armstrong number\")\n",
        "else:\n",
        "    print(\"number is not an armstrong number\")"
      ],
      "metadata": {
        "id": "KfKo0fjoDbyG"
      },
      "execution_count": null,
      "outputs": []
    },
    {
      "cell_type": "markdown",
      "source": [
        "19. Write a program that will take user input of (4 digits number) and check whether the number is narcissist number or not."
      ],
      "metadata": {
        "id": "vqHRQo5aH0c4"
      }
    },
    {
      "cell_type": "code",
      "source": [
        "# same as question 19"
      ],
      "metadata": {
        "id": "IczaXqagH4tD"
      },
      "execution_count": null,
      "outputs": []
    },
    {
      "cell_type": "markdown",
      "source": [
        "20 .Write a program that will give you the in hand salary after deduction of HRA(10%), DA(5%), PF(3%), and tax(if salary is between 5-10 lakh–10%), (11-20lakh–20%), (20< _   – 30%), (0-1lakh print k)."
      ],
      "metadata": {
        "id": "ZT2Nv_NCILdA"
      }
    },
    {
      "cell_type": "code",
      "source": [
        "user_input = int(input('type your complete salary: '))\n",
        "salary_in_hand = user_input\n",
        "\n",
        "deduction_hra = user_input * 10/100\n",
        "deduction_da = user_input * 5/100\n",
        "deduction_pf = user_input * 3/100\n",
        "total_deduction = deduction_hra + deduction_da + deduction_pf\n",
        "print(total_deduction)\n",
        "salary_in_hand -= total_deduction\n",
        "\n",
        "if 500000 <= user_input <= 1000000:\n",
        "    tax = user_input * 10/100\n",
        "    print(tax)\n",
        "    salary_in_hand -= tax\n",
        "elif 1100000 <= user_input <= 2000000:\n",
        "    tax = user_input * 20/100\n",
        "    print(tax)\n",
        "    salary_in_hand -= tax\n",
        "elif 2100000 < user_input:\n",
        "    tax = user_input * 30/100\n",
        "    print(tax)\n",
        "    salary_in_hand -= tax\n",
        "print(\"you in hand salary is:\", salary_in_hand)"
      ],
      "metadata": {
        "id": "722RqfEHIQV5"
      },
      "execution_count": null,
      "outputs": []
    },
    {
      "cell_type": "markdown",
      "source": [
        "21. Write a menu driven program - 1. cm to ft,   2. km to miles,  3. usd to inr,  4.exit"
      ],
      "metadata": {
        "id": "1a29zRy13yYG"
      }
    },
    {
      "cell_type": "code",
      "source": [
        "menu = {\n",
        "    \"cm\": {\n",
        "        \"1cm\": 0.0328,\n",
        "    },\n",
        "    \"km\": {\n",
        "        \"1km\" : 0.6214,\n",
        "    },\n",
        "    \"usd\": {\n",
        "        \"1usd\" : 83.12,\n",
        "    }\n",
        "}\n",
        "\n",
        "user_choice = input(\"select your choice:\\n 1. type cm (cm to ft)\\n 2. type km (km to miles)\\n 3. type usd (usd to inr)\\n\").lower()\n",
        "\n",
        "final_result = None\n",
        "symbol = None\n",
        "if user_choice == \"cm\":\n",
        "    user_input = float(input(\"type length (cm) you want to convert: \"))\n",
        "    final_result = round(user_input * menu[user_choice][\"1cm\"], 4)\n",
        "    symbol = \"ft\"\n",
        "\n",
        "elif user_choice == \"km\":\n",
        "    user_input = float(input(\"type length (km) you want to convert: \"))\n",
        "    final_result = round(user_input * menu[user_choice][\"1km\"], 4)\n",
        "    symbol = \"miles\"\n",
        "\n",
        "if user_choice == \"usd\":\n",
        "    user_input = float(input(\"type amount (usd) you want to convert: \"))\n",
        "    final_result = round(user_input * menu[user_choice][\"1usd\"], 4)\n",
        "    symbol = \"inr\"\n",
        "\n",
        "print(f\"Here is your result: {user_input} {user_choice} = {final_result} {symbol}\")\n"
      ],
      "metadata": {
        "id": "mYGc5XTi325M"
      },
      "execution_count": null,
      "outputs": []
    },
    {
      "cell_type": "markdown",
      "source": [
        "22. Write a program that will tell the number of dogs and chicken are there when the user will provide the value of total heads and legs.\n"
      ],
      "metadata": {
        "id": "3ghdpBriBlGQ"
      }
    },
    {
      "cell_type": "code",
      "source": [
        "# 1 dog = 4 legs\n",
        "# 1 chicken = 2 legs\n",
        "# let x dogs and y chicken: 4x + 2y = total_legs and x + y = total_heads ; solve both\n",
        "# 2*x = total_legs - 2*total_heads --> dogs = total_legs/2 - total_heads\n",
        "\n",
        "user_head_input = int(input(\"type number of heads: \"))  # 7\n",
        "user_legs_input = int(input(\"type number of legs: \"))   # 20 --> 3 dogs and 4 chicken\n",
        "\n",
        "total_dogs = int(user_legs_input/2) - user_head_input\n",
        "total_chicken = user_head_input - total_dogs\n",
        "\n",
        "print(f\"number of dogs: {total_dogs}\\nnumber of chicken: {total_chicken}\")"
      ],
      "metadata": {
        "id": "nwpnSTrsBqOb"
      },
      "execution_count": null,
      "outputs": []
    },
    {
      "cell_type": "markdown",
      "source": [
        "23. Write a program that will swap numbers"
      ],
      "metadata": {
        "id": "SM-YAiP0msIt"
      }
    },
    {
      "cell_type": "code",
      "source": [
        "a = input(\"type first number: \")\n",
        "b = input(\"type second number: \")\n",
        "\n",
        "c = a\n",
        "a = b\n",
        "b = c\n",
        "\n",
        "print(f\"your first number is: {a} and second number is: {b}\")"
      ],
      "metadata": {
        "id": "EmtgmM8_nAwg"
      },
      "execution_count": null,
      "outputs": []
    },
    {
      "cell_type": "markdown",
      "source": [
        "24. Write a program to find the sum of first n numbers, where n will be provided by the user. Eg if the user provides n=10 the output should be 55."
      ],
      "metadata": {
        "id": "3PcnJBG8niN-"
      }
    },
    {
      "cell_type": "code",
      "source": [
        "user_input = int(input(\"how many numbers you want to add: \"))\n",
        "total_sum = 0\n",
        "for i in range(user_input+1):\n",
        "    total_sum += i\n",
        "\n",
        "print(f\"first {user_input} numbers sum is: {total_sum}\")"
      ],
      "metadata": {
        "id": "fE8Hodrtnl6J"
      },
      "execution_count": null,
      "outputs": []
    },
    {
      "cell_type": "markdown",
      "source": [
        "25. Write a program that can multiply 2 numbers provided by the user without using the * operator\n"
      ],
      "metadata": {
        "id": "TG3WwJCvo_l2"
      }
    },
    {
      "cell_type": "code",
      "source": [
        "first_num = int(input(\"type first number: \"))   # 2\n",
        "second_num = int(input(\"type second number: \"))  # 8\n",
        "sum = 0\n",
        "for _ in range(second_num):\n",
        "    sum += first_num\n",
        "print(f\"{first_num} * {second_num} = {sum}\")"
      ],
      "metadata": {
        "id": "oX2YVh1_pFSO"
      },
      "execution_count": null,
      "outputs": []
    },
    {
      "cell_type": "markdown",
      "source": [
        "26. Write a program that can find the factorial of a given number provided by the user."
      ],
      "metadata": {
        "id": "r6UD2k3JqdWS"
      }
    },
    {
      "cell_type": "code",
      "source": [
        "user_input = int(input(\"type number: \"))\n",
        "factorial = 1\n",
        "for i in range(user_input, 0, -1):\n",
        "    factorial *= i\n",
        "print(f\"factorial of {user_input} is: {factorial}\")"
      ],
      "metadata": {
        "id": "A53MZVurqhPy"
      },
      "execution_count": null,
      "outputs": []
    },
    {
      "cell_type": "markdown",
      "source": [
        "27. Write a program to print the first 25 odd numbers\n"
      ],
      "metadata": {
        "id": "26l70AB2rqah"
      }
    },
    {
      "cell_type": "code",
      "source": [
        "user_input = int(input(\"how many odd numbers you want to print: \"))\n",
        "i = -1\n",
        "round = 0\n",
        "while round < user_input:\n",
        "    i += 2\n",
        "    round += 1\n",
        "    print(i)"
      ],
      "metadata": {
        "id": "eFwDjURjruA_"
      },
      "execution_count": null,
      "outputs": []
    },
    {
      "cell_type": "markdown",
      "source": [
        "28. Write a program to print whether a given number is prime number or not"
      ],
      "metadata": {
        "id": "VYQkO0a9C6Dg"
      }
    },
    {
      "cell_type": "code",
      "source": [
        "user_input = int(input(\"type a number you want to check: \"))\n",
        "\n",
        "is_prime = True\n",
        "for i in range(2, user_input):\n",
        "    if user_input % i == 0:\n",
        "        is_prime = False\n",
        "        break\n",
        "\n",
        "if is_prime:\n",
        "    print(f\"{user_input} is a prime number\")\n",
        "else:\n",
        "    print(f\"{user_input} is not a prime number\")\n"
      ],
      "metadata": {
        "id": "Ge2T_UnHC-K1"
      },
      "execution_count": null,
      "outputs": []
    },
    {
      "cell_type": "markdown",
      "source": [
        "29. Print all the armstrong numbers in the range of 100 to 1000\n"
      ],
      "metadata": {
        "id": "l9XVSqwLElQY"
      }
    },
    {
      "cell_type": "code",
      "source": [
        "def digit_power(digit, power):\n",
        "        return int(digit) ** power\n",
        "\n",
        "for num in range(100, 1001):\n",
        "    num_str_list = list(str(num))\n",
        "    num_length = len(num_str_list)\n",
        "\n",
        "    powered_digit_list = [digit_power(digit, num_length) for digit in num_str_list]\n",
        "    digit_sum = sum(powered_digit_list)\n",
        "\n",
        "    if num == digit_sum:\n",
        "        print(num)"
      ],
      "metadata": {
        "id": "Fuv2Za7tEmi8"
      },
      "execution_count": null,
      "outputs": []
    },
    {
      "cell_type": "markdown",
      "source": [
        "30. The current population of a town is 10000. The population of the town is increasing at the rate of 10% per year. You have to write a program to find out the population at the end of each of the last 10 years. For eg current population is 10000 so the output should be like this:<br>\n",
        "10th year - 10000<br>\n",
        "9th year - 9090<br>\n",
        "\n"
      ],
      "metadata": {
        "id": "3ffLxNxJHlvS"
      }
    },
    {
      "cell_type": "code",
      "source": [
        "current_population = int(input(\"type current population of town: \"))\n",
        "select_year = int(input(\"how many years later population you want to know: \"))\n",
        "increase_rate = float(input(\"what is per year increase rate: \"))\n",
        "\n",
        "symbol = None\n",
        "i = select_year\n",
        "for year in range(1, select_year+1):\n",
        "    new_population = int(current_population * (100/(100 + increase_rate))**year)\n",
        "    if i > 3:\n",
        "        symbol = 'th'\n",
        "    elif i == 3:\n",
        "        symbol = 'rd'\n",
        "    elif i == 2:\n",
        "        symbol = 'nd'\n",
        "    elif i == 1:\n",
        "        symbol = 'st'\n",
        "    print(f\"population1 {i}{symbol} year: {new_population}\")\n",
        "    i -= 1"
      ],
      "metadata": {
        "id": "CEXSeMKuH1Mi"
      },
      "execution_count": null,
      "outputs": []
    },
    {
      "cell_type": "markdown",
      "source": [
        "31. Write a program to print all the unique combinations of 1,2,3 and 4"
      ],
      "metadata": {
        "id": "MZmW1m-ZQAL5"
      }
    },
    {
      "cell_type": "code",
      "source": [
        "def combinations(x):\n",
        "    for i in range(1, len(x) + 1):\n",
        "        for j in range(1, len(x) + 1):\n",
        "            for k in range(1, len(x) + 1):\n",
        "                for l in range(1, len(x) + 1):\n",
        "                    if i != j and j != k and k != l and j != l and i != k and i != l:\n",
        "                        print(i,j,k,l)\n",
        "\n",
        "combinations([1,2,3,4])\n"
      ],
      "metadata": {
        "id": "Fhn8Q0IDQYcJ"
      },
      "execution_count": null,
      "outputs": []
    },
    {
      "cell_type": "markdown",
      "source": [
        "32. User will provide 2 numbers you have to find the HCF of those 2 numbers\n"
      ],
      "metadata": {
        "id": "4m3XccPTRS78"
      }
    },
    {
      "cell_type": "code",
      "source": [
        "first_num = int(input(\"type first number: \"))\n",
        "second_num = int(input(\"type second number: \"))\n",
        "hcf = None\n",
        "\n",
        "\n",
        "def get_hcf(first, second, remainder=None):\n",
        "    while remainder != 0:\n",
        "        remainder = second % first\n",
        "        if remainder == 0:\n",
        "            return first\n",
        "        else:\n",
        "            second = first\n",
        "            first = remainder\n",
        "\n",
        "\n",
        "if first_num <= second_num:\n",
        "    hcf = get_hcf(first_num, second_num)\n",
        "elif first_num > second_num:\n",
        "    hcf = get_hcf(second_num, first_num)\n",
        "\n",
        "print(f\"hcf of {first_num} and {second_num} is: {hcf}\")"
      ],
      "metadata": {
        "id": "qOSqz4QgRUnj"
      },
      "execution_count": null,
      "outputs": []
    },
    {
      "cell_type": "markdown",
      "source": [
        "33. User will provide 2 numbers you have to find the by LCM of those 2 numbers<br>\n",
        "hcf * lcm = num1 * num2"
      ],
      "metadata": {
        "id": "Ti8mhvWejWxm"
      }
    },
    {
      "cell_type": "code",
      "source": [
        "first_num = int(input(\"type first number: \"))\n",
        "second_num = int(input(\"type second number: \"))\n",
        "hcf = None\n",
        "\n",
        "\n",
        "def get_hcf(first, second, remainder=None):\n",
        "    while remainder != 0:\n",
        "        remainder = second % first\n",
        "        if remainder == 0:\n",
        "            return first\n",
        "        else:\n",
        "            second = first\n",
        "            first = remainder\n",
        "\n",
        "\n",
        "if first_num <= second_num:\n",
        "    hcf = get_hcf(first_num, second_num)\n",
        "elif first_num > second_num:\n",
        "    hcf = get_hcf(second_num, first_num)\n",
        "\n",
        "lcm = (first_num * second_num) / hcf\n",
        "\n",
        "print(f'hcf of {first_num} and {second_num} is: {hcf}\\nlcm of {first_num} and {second_num} is: {lcm}')"
      ],
      "metadata": {
        "id": "F5kNYh1Vjae8"
      },
      "execution_count": null,
      "outputs": []
    },
    {
      "cell_type": "markdown",
      "source": [
        "34. Print first 25 prime numbers"
      ],
      "metadata": {
        "id": "ZV1vkktVpx5H"
      }
    },
    {
      "cell_type": "code",
      "source": [
        "user_input = int(input(\"how many prime number you want to print: \"))\n",
        "\n",
        "turn = 0\n",
        "num = 2     # smallest prime num\n",
        "is_prime = True\n",
        "while turn < user_input:\n",
        "    for i in range(2, num):\n",
        "        if num % i == 0:\n",
        "            is_prime = False\n",
        "            break\n",
        "    if is_prime:\n",
        "        print(num)\n",
        "        turn += 1\n",
        "\n",
        "    num += 1\n",
        "    is_prime = True\n"
      ],
      "metadata": {
        "id": "djnWIRhdp-It"
      },
      "execution_count": null,
      "outputs": []
    },
    {
      "cell_type": "markdown",
      "source": [
        "35. Print the first 20 numbers of a Fibonacci series <br>\n",
        "Fibonacci series is a sequence of numbers in which each number (after the first two) is the sum of the two preceding one<br>\n",
        "0, 1, 1, 2, 3, 5, 8, 13, 21, 34, .."
      ],
      "metadata": {
        "id": "ijU7iToA1D8M"
      }
    },
    {
      "cell_type": "code",
      "source": [
        "user_input = int(input(\"how many Fibonacci series number you want to print: \"))\n",
        "\n",
        "previous_first_num = []\n",
        "fibonacci_series = []\n",
        "\n",
        "for i in range(user_input):\n",
        "    if i == 0 or i == 1:\n",
        "        previous_first_num.append(i)\n",
        "        fibonacci_series.append(i)\n",
        "    else:\n",
        "        new_num = previous_first_num[-1] + previous_first_num[-2]\n",
        "        previous_first_num.append(new_num)\n",
        "        fibonacci_series.append(new_num)\n",
        "\n",
        "fibonacci_series_str = list(map(str, fibonacci_series))\n",
        "series = ', '.join(fibonacci_series_str)\n",
        "\n",
        "print(f\"fibonacci series: {series}\")"
      ],
      "metadata": {
        "id": "QCREIa9E1Lcc"
      },
      "execution_count": null,
      "outputs": []
    },
    {
      "cell_type": "markdown",
      "source": [
        "36. Write a program to find the compound interest\n"
      ],
      "metadata": {
        "id": "FfLyS8D0u9Ap"
      }
    },
    {
      "cell_type": "code",
      "source": [
        "principal_amount = float(input(\"type your principal amount: \"))\n",
        "interest_rate = float(input(\"type annual interest rate: \"))\n",
        "n = int(input(\"type the number of times interest is compounded per year: \"))\n",
        "time = int(input(\"type the time money is invested for in years: \"))\n",
        "\n",
        "accumulated_money = principal_amount * (1 + interest_rate/n) ** (n * time)\n",
        "compound_interest = accumulated_money - principal_amount\n",
        "\n",
        "print(f\"compound interest is: {compound_interest}\")"
      ],
      "metadata": {
        "id": "wV7g8Y6_vBBW"
      },
      "execution_count": null,
      "outputs": []
    },
    {
      "cell_type": "markdown",
      "source": [
        "37. Write a Python program that accepts an integer (n) and computes the value of n+nn+nnn."
      ],
      "metadata": {
        "id": "n3u1A99avB5q"
      }
    },
    {
      "cell_type": "code",
      "source": [
        "user_input = input(\"type a number: \")   # 123 + 123123 + 123123123\n",
        "\n",
        "num_list = []\n",
        "for i in range(1, 4):\n",
        "    num = user_input * i\n",
        "    num_list.append(num)\n",
        "\n",
        "int_num_list = list(map(int, num_list))\n",
        "print(int_num_list)\n",
        "print(f\"final sum: {sum(int_num_list)}\")"
      ],
      "metadata": {
        "id": "mEUc3EYkvGAZ"
      },
      "execution_count": null,
      "outputs": []
    },
    {
      "cell_type": "markdown",
      "source": [
        "38. Take a number from the user and find the number of digits in it."
      ],
      "metadata": {
        "id": "Ti9kxhWKquiO"
      }
    },
    {
      "cell_type": "code",
      "source": [
        "user_input = input(\"type a number: \")\n",
        "num_length = len(user_input)\n",
        "print(f\"length of {user_input} is: {num_length}\")"
      ],
      "metadata": {
        "id": "3Z0F_4L3qxGZ"
      },
      "execution_count": null,
      "outputs": []
    },
    {
      "cell_type": "markdown",
      "source": [
        "39. Print all factors of a given number provided by the user."
      ],
      "metadata": {
        "id": "lt5dGBLHrUw6"
      }
    },
    {
      "cell_type": "code",
      "source": [
        "user_input = int(input(\"type a number: \"))\n",
        "\n",
        "factors_list = []\n",
        "for number in range(1, user_input + 1):\n",
        "    if user_input % number == 0:\n",
        "        factors_list.append(number)\n",
        "factors = str(factors_list).strip('[]')\n",
        "\n",
        "print(f\"factors of {user_input} are: {factors}\")"
      ],
      "metadata": {
        "id": "RjJdih-UrWZt"
      },
      "execution_count": null,
      "outputs": []
    },
    {
      "cell_type": "markdown",
      "source": [
        "40. Find the reverse of a number provided by the user(any number of digit)"
      ],
      "metadata": {
        "id": "C6WSUhHfrcWz"
      }
    },
    {
      "cell_type": "code",
      "source": [
        "user_input = input(\"type a number: \")\n",
        "num_reverse = user_input[::-1]\n",
        "\n",
        "print(f\"reverse of number: {num_reverse}\")"
      ],
      "metadata": {
        "id": "3UGq2phPrfdU"
      },
      "execution_count": null,
      "outputs": []
    },
    {
      "cell_type": "markdown",
      "source": [
        "41. Write a program to print the following pattern\n",
        "\n",
        "```\n",
        "*\n",
        "**\n",
        "***\n",
        "****\n",
        "*****\n",
        "```\n",
        "\n",
        "\n"
      ],
      "metadata": {
        "id": "Gzuaxgjf8T-l"
      }
    },
    {
      "cell_type": "code",
      "source": [
        "user_input = int(input(\"how many row you want to print: \"))\n",
        "\n",
        "for i in range(1, user_input + 1):\n",
        "    print(\"*\" * i)"
      ],
      "metadata": {
        "id": "XdjaygZj8hF8"
      },
      "execution_count": null,
      "outputs": []
    },
    {
      "cell_type": "markdown",
      "source": [
        "42. Write a program to print the following pattern\n",
        "\n",
        "```\n",
        "*\n",
        "**\n",
        "***\n",
        "**\n",
        "*\n",
        "```\n",
        "\n"
      ],
      "metadata": {
        "id": "VnMZ2Ff188cR"
      }
    },
    {
      "cell_type": "code",
      "source": [
        "user_input = int(input(\"how many row you want to print: \"))\n",
        "\n",
        "for i in range(1, user_input + 1):\n",
        "    print(\"*\" * i)\n",
        "    if i == user_input:\n",
        "        for i in range(user_input - 1, 0, -1):\n",
        "            print(\"*\" * i)"
      ],
      "metadata": {
        "id": "8XgxZD809HYE"
      },
      "execution_count": null,
      "outputs": []
    },
    {
      "cell_type": "markdown",
      "source": [
        "43. Write  a program to print the following pattern\n",
        "```\n",
        "            *\n",
        "          * * *\n",
        "        * * * * *\n",
        "      * * * * * * *\n",
        "    * * * * * * * * *\n",
        "```"
      ],
      "metadata": {
        "id": "eMiQLqMB9pgH"
      }
    },
    {
      "cell_type": "code",
      "source": [
        "user_input = int(input(\"how many rows you want to print: \"))\n",
        "\n",
        "star = 1\n",
        "for i in range(1, user_input + 1):\n",
        "    print(\" \"*(user_input-i) + \"*\" * star)      # if \" * \" then we need to put two more space \"  \" here also\n",
        "    star += 2"
      ],
      "metadata": {
        "id": "pLsontDe90Rk"
      },
      "execution_count": null,
      "outputs": []
    },
    {
      "cell_type": "markdown",
      "source": [
        "44. Write a program to print the following pattern\n",
        "```\n",
        "1\n",
        "1 2 1\n",
        "1 2 3 2 1\n",
        "1 2 3 4 3 2 1\n",
        "1 2 3 4 5 4 3 2 1\n",
        "```\n"
      ],
      "metadata": {
        "id": "I-Y2trKHKR_R"
      }
    },
    {
      "cell_type": "code",
      "source": [
        "user_input = int(input(\"type number of rows you want to print: \"))\n",
        "\n",
        "numbers = \"\"\n",
        "for row in range(1, user_input + 1):\n",
        "    for num in range(1, row+1):\n",
        "        numbers += \" \" + str(num)   # add space between digits\n",
        "        if num == row:\n",
        "            for reverse_num in range(row-1, 0, -1):\n",
        "                numbers += \" \" + str(reverse_num)\n",
        "    print(numbers)\n",
        "    numbers = \"\""
      ],
      "metadata": {
        "id": "S6_vlyJCAv3O"
      },
      "execution_count": null,
      "outputs": []
    },
    {
      "cell_type": "markdown",
      "source": [
        "45. Write a program to print the following pattern\n",
        "```\n",
        "1\n",
        "2 3\n",
        "4 5 6\n",
        "7 8 9 10\n",
        "```"
      ],
      "metadata": {
        "id": "eZYSjDyjUdKe"
      }
    },
    {
      "cell_type": "code",
      "source": [
        "user_input = int(input(\"how many lines you want to print: \"))\n",
        "\n",
        "number = 0\n",
        "for row in range(1, user_input + 1):\n",
        "    number_str = \"\"\n",
        "    for _ in range(1, row+1):\n",
        "        number += 1\n",
        "        number_str += str(number) + \" \"\n",
        "    print(number_str)"
      ],
      "metadata": {
        "id": "6uv-2XHyUie7"
      },
      "execution_count": null,
      "outputs": []
    },
    {
      "cell_type": "markdown",
      "source": [
        "46. Write a program to calculate the sum of the following series till the nth term\n",
        "```\n",
        "1/1! + 2/2! + 3/3! + 4/4! +…….+ n/n!\n",
        "n will be provided by the user\n",
        "```"
      ],
      "metadata": {
        "id": "4MZq4JQt7j98"
      }
    },
    {
      "cell_type": "code",
      "source": [
        "user_input = int(input(\"enter your number: \"))\n",
        "\n",
        "series_sum = 0\n",
        "factorial = 1\n",
        "for num in range(1, user_input + 1):\n",
        "    numerator = num\n",
        "    for i in range(num, 0, -1):\n",
        "        factorial *= i\n",
        "    denominator = factorial\n",
        "    series_sum += numerator/denominator\n",
        "    factorial = 1\n",
        "\n",
        "print(f\"sum of given series: {series_sum}\")"
      ],
      "metadata": {
        "id": "A7XSZlO37pKF"
      },
      "execution_count": null,
      "outputs": []
    },
    {
      "cell_type": "markdown",
      "source": [
        "47. Write a Python Program to Find the Sum of the Series till the nth term:\n",
        "```\n",
        "1 + x^2/2 + x^3/3 + … x^n/n\n",
        "x and n will be provided by the user\n",
        "```\n"
      ],
      "metadata": {
        "id": "SuLV9ezxDmIP"
      }
    },
    {
      "cell_type": "code",
      "source": [
        "x = int(input(\"enter a number x:\"))\n",
        "n = int(input(\"enter a value n: \"))\n",
        "\n",
        "series_sum = 0\n",
        "for i in range(1, n+1):\n",
        "    if i == 1:\n",
        "        numerator = 1\n",
        "        denominator = 1\n",
        "    else:\n",
        "        numerator = x ** i\n",
        "        denominator = i\n",
        "    series_sum += numerator/denominator\n",
        "\n",
        "print(f\"sum of series: {series_sum}\")"
      ],
      "metadata": {
        "id": "7KSvLfSODqyY"
      },
      "execution_count": null,
      "outputs": []
    },
    {
      "cell_type": "markdown",
      "source": [
        "48. The natural logarithm can be approximated by the following series.\n",
        "```\n",
        "((x-1)/x)^1 + (1/2)*((x-1)/x)^2 + ........+(1/2)*((x-1)/x)^n\n",
        "```\n",
        "If x and n are input through the keyboard, write a program to calculate the sum of the first seven terms of this series.\n"
      ],
      "metadata": {
        "id": "nXd9gpj_HY33"
      }
    },
    {
      "cell_type": "code",
      "source": [
        "x = int(input(\"enter your number x: \"))\n",
        "n = int(input(\"enter value n: \"))\n",
        "\n",
        "numerator = x-1\n",
        "denominator = x\n",
        "\n",
        "new_factor = None\n",
        "series_sum = 0\n",
        "for i in range(1, n+1):\n",
        "    if i == 1:\n",
        "        new_factor = 1\n",
        "    else:\n",
        "        new_factor = 1/2\n",
        "    series_sum += new_factor * (numerator / denominator) ** i\n",
        "\n",
        "print(f\"sum of series: {series_sum}\")\n"
      ],
      "metadata": {
        "id": "PtM9O5_eIqPl"
      },
      "execution_count": null,
      "outputs": []
    },
    {
      "cell_type": "markdown",
      "source": [
        "49.  Write a program that keeps on accepting a number from the user until the user enters Zero. Display the sum and average of all the numbers."
      ],
      "metadata": {
        "id": "xPLUtiuNU2Uk"
      }
    },
    {
      "cell_type": "code",
      "source": [
        "num_list = []\n",
        "while True:\n",
        "    user_input = float(input(\"type a number: \"))\n",
        "    if user_input == 0:\n",
        "        break\n",
        "    else:\n",
        "        num_list.append(user_input)\n",
        "print(num_list)\n",
        "num_sum = sum(num_list)\n",
        "num_average = round(num_sum / len(num_list), 3)\n",
        "print(f\"sum of all numbers: {num_sum}\\naverage of all numbers: {num_average}\")"
      ],
      "metadata": {
        "id": "7i1TuUudU4iJ"
      },
      "execution_count": null,
      "outputs": []
    },
    {
      "cell_type": "markdown",
      "source": [
        "50. Write a program that accepts 2 numbers from the user a numerator and a denominator and then simplifies it\n",
        "```\n",
        "Eg if the num = 5, den = 15 the answer should be ⅓\n",
        "Eg if the num = 6, den = 9 the answer should be ⅔\n",
        "```"
      ],
      "metadata": {
        "id": "hGNh8onoX2ip"
      }
    },
    {
      "cell_type": "code",
      "source": [
        "numerator = int(input(\"type numerator: \"))\n",
        "denominator = int(input(\"type denominator: \"))\n",
        "hcf = None\n",
        "\n",
        "\n",
        "def get_hcf(first, second, remainder=None):\n",
        "    while remainder != 0:\n",
        "        remainder = second % first\n",
        "        if remainder == 0:\n",
        "            return first\n",
        "        else:\n",
        "            second = first\n",
        "            first = remainder\n",
        "\n",
        "\n",
        "if numerator <= denominator:\n",
        "    hcf = get_hcf(numerator, denominator)\n",
        "elif numerator > denominator:\n",
        "    hcf = get_hcf(denominator, numerator)\n",
        "\n",
        "print(f\"hcf of {numerator} and {denominator} is: {hcf}\")\n",
        "\n",
        "simplified_numerator = numerator // hcf\n",
        "simplified_denominator = denominator // hcf\n",
        "\n",
        "print(f\"The simplified fraction is: {simplified_numerator}/{simplified_denominator}\")"
      ],
      "metadata": {
        "id": "xWyBobKyX6iW"
      },
      "execution_count": null,
      "outputs": []
    },
    {
      "cell_type": "markdown",
      "source": [
        "51. Find the length of a given string without using the len() function"
      ],
      "metadata": {
        "id": "rceX21kE2H-v"
      }
    },
    {
      "cell_type": "code",
      "source": [
        "user_input = input(\"type a string: \")\n",
        "length = 0\n",
        "for _ in user_input:\n",
        "    length += 1\n",
        "print(f\"length of {user_input} is: {length}\")"
      ],
      "metadata": {
        "id": "YB26QlVu2JyG"
      },
      "execution_count": null,
      "outputs": []
    },
    {
      "cell_type": "markdown",
      "source": [
        "52. Extract username from a given email.\n",
        "Eg if the email is nitish24singh@gmail.com then the username should be nitish24singh"
      ],
      "metadata": {
        "id": "KbWl70cv4CpE"
      }
    },
    {
      "cell_type": "code",
      "source": [
        "user_input = input(\"type your email: \")\n",
        "user_name = user_input.split('@')[0]\n",
        "print(f\"user name is: {user_name}\")"
      ],
      "metadata": {
        "id": "O319Yrol4FVi"
      },
      "execution_count": null,
      "outputs": []
    },
    {
      "cell_type": "markdown",
      "source": [
        "53. Count the frequency of a particular character in a provided string. Eg 'hello how are you' is the string, the frequency of h in this string is 2."
      ],
      "metadata": {
        "id": "QCmosZZcXbYv"
      }
    },
    {
      "cell_type": "code",
      "source": [
        "user_input = input(\"enter a string: \")\n",
        "word_list = user_input.split()\n",
        "all_char = ''.join(word_list)\n",
        "print(all_char)\n",
        "\n",
        "char_list = [char for char in all_char]\n",
        "print(f\"length of string: {len(char_list)} \")\n",
        "# print(char_list)\n",
        "\n",
        "unique_char_list = []\n",
        "for char in char_list:\n",
        "    if char not in unique_char_list:\n",
        "        unique_char_list.append(char)\n",
        "print(unique_char_list)\n",
        "\n",
        "final_sum = 0\n",
        "for item in unique_char_list:\n",
        "    frequency = char_list.count(item)\n",
        "    final_sum += frequency\n",
        "    print(f\"frequency of '{item}': {frequency}\")\n",
        "\n",
        "print(f\"total length: {final_sum}\")\n"
      ],
      "metadata": {
        "id": "uVJnE-LYXcud"
      },
      "execution_count": null,
      "outputs": []
    },
    {
      "cell_type": "markdown",
      "source": [
        "54. Find the index position of a particular character in a string."
      ],
      "metadata": {
        "id": "yw3D6l1Tws7L"
      }
    },
    {
      "cell_type": "code",
      "source": [
        "user_string = input('enter a string: ')\n",
        "user_char = input(\"enter a character: \")\n",
        "\n",
        "positions_list = []\n",
        "for index, char in enumerate(user_string):\n",
        "    if char == user_char:\n",
        "        # print(char, index)\n",
        "        positions_list.append(str(index))       # starting from 0 and space also count\n",
        "print(f\"index position of '{user_char}' is: {' & '.join(positions_list)}\")"
      ],
      "metadata": {
        "id": "BP0lMNj2wuQl"
      },
      "execution_count": null,
      "outputs": []
    },
    {
      "cell_type": "markdown",
      "source": [
        "55. Count the number of vowels in a string provided by the user."
      ],
      "metadata": {
        "id": "sBl_5wGn2gsP"
      }
    },
    {
      "cell_type": "code",
      "source": [
        "user_input = input(\"type a string: \")\n",
        "vowel_list = [\"a\", \"e\", \"i\", \"o\", \"u\"]\n",
        "\n",
        "total = 0\n",
        "for vowel in vowel_list:\n",
        "    if vowel in user_input:\n",
        "        total += 1\n",
        "print(f\"vowels present in string: {total}\")"
      ],
      "metadata": {
        "id": "x70tRCiI2qCM"
      },
      "execution_count": null,
      "outputs": []
    },
    {
      "cell_type": "markdown",
      "source": [
        "56. Write a program which can remove a particular character from a string."
      ],
      "metadata": {
        "id": "Xi3y3-UbID8n"
      }
    },
    {
      "cell_type": "code",
      "source": [
        "user_input = input(\"enter a string: \")\n",
        "user_char = input(\"enter character you want to remove: \")\n",
        "\n",
        "new_sentence = user_input.replace(user_char, \"\")\n",
        "print(new_sentence)"
      ],
      "metadata": {
        "id": "m60PGpve0HYX"
      },
      "execution_count": null,
      "outputs": []
    },
    {
      "cell_type": "markdown",
      "source": [
        "57. Write a program that can check whether a given string is palindrome or not.\n",
        "( reads the same forwards and backwards, ignoring spaces, punctuation, and capitalization) <br>\n",
        "ex: A man a plan a canal Panama"
      ],
      "metadata": {
        "id": "EYf1ffsz4JOs"
      }
    },
    {
      "cell_type": "code",
      "source": [
        "user_input = input(\"type a string: \").lower()\n",
        "\n",
        "char_join = user_input.replace(' ', '').lower()\n",
        "word_reverse = char_join[::-1]\n",
        "# print(word_reverse)\n",
        "\n",
        "if char_join == word_reverse:\n",
        "    print(f\"string '{user_input}' is a palindrome.\")\n",
        "else:\n",
        "    print(f\"string is not a palindrome.\")"
      ],
      "metadata": {
        "id": "pSMz5ykO4VPs"
      },
      "execution_count": null,
      "outputs": []
    },
    {
      "cell_type": "markdown",
      "source": [
        "58. Write a python program to remove all the duplicates from a list"
      ],
      "metadata": {
        "id": "2ijlbDJk2qRT"
      }
    },
    {
      "cell_type": "code",
      "source": [
        "user_input = input(\"enter characters separated with comma: \")\n",
        "char_list = user_input.split(',')\n",
        "# print(char_list)\n",
        "\n",
        "unique_char_list = []\n",
        "for char in char_list:\n",
        "    if char not in unique_char_list:\n",
        "        unique_char_list.append(char)\n",
        "print(unique_char_list)"
      ],
      "metadata": {
        "id": "lwE3azcX20Yv"
      },
      "execution_count": null,
      "outputs": []
    },
    {
      "cell_type": "markdown",
      "source": [
        "59. Write a python program to convert a string to title case without using the title()"
      ],
      "metadata": {
        "id": "_6IlMTVf6xBS"
      }
    },
    {
      "cell_type": "code",
      "source": [
        "user_input = input(\"type a string: \")\n",
        "user_input_list = user_input.split(' ')\n",
        "# print(user_input_list)\n",
        "\n",
        "item_new_list = []\n",
        "for word in user_input_list:\n",
        "    all_letter = ''\n",
        "    for i in range(len(word)):\n",
        "        if i == 0:\n",
        "            char = word[i].upper()\n",
        "            all_letter += char\n",
        "        else:\n",
        "            all_letter += word[i]\n",
        "    item_new_list.append(all_letter)\n",
        "sentence = ' '.join(item_new_list)\n",
        "\n",
        "print(f\"here is your sentence in title case:\\n{sentence}\")"
      ],
      "metadata": {
        "id": "RHcsSCYQ6ybI"
      },
      "execution_count": null,
      "outputs": []
    },
    {
      "cell_type": "markdown",
      "source": [
        "60. Write a python program to find the max item from a list without using the max function\n"
      ],
      "metadata": {
        "id": "4GnirZjrAqvX"
      }
    },
    {
      "cell_type": "code",
      "source": [
        "user_input = input(\"enter numbers separated with comma: \")\n",
        "num_list = user_input.split(',')\n",
        "# print(num_list)\n",
        "\n",
        "max_num = 0\n",
        "for item in num_list:\n",
        "    item_float = float(item)\n",
        "    if max_num < item_float:\n",
        "        max_num = item_float\n",
        "\n",
        "print(f\"maximum number is: {max_num}\")"
      ],
      "metadata": {
        "id": "0URqUSfSAwJP"
      },
      "execution_count": null,
      "outputs": []
    },
    {
      "cell_type": "markdown",
      "source": [
        "61. Write a python program to reverse a list"
      ],
      "metadata": {
        "id": "wCPZGmWxAwjC"
      }
    },
    {
      "cell_type": "code",
      "source": [
        "user_input = input(\"enter word/number separated with space: \")\n",
        "user_input_list = user_input.split(' ')\n",
        "# print(user_input_list)\n",
        "\n",
        "reverse_list = user_input_list[::-1]\n",
        "# reverse_list = list(reversed(user_input_list))\n",
        "\n",
        "print(f\"this is the reverse list: {reverse_list}\")"
      ],
      "metadata": {
        "id": "lrwJuxTHA0Hu"
      },
      "execution_count": null,
      "outputs": []
    },
    {
      "cell_type": "markdown",
      "source": [
        "62. Write a python program to search a given number from a list"
      ],
      "metadata": {
        "id": "PR92ZlE7A1Ac"
      }
    },
    {
      "cell_type": "code",
      "source": [
        "user_num_input = input(\"enter numbers separated with space: \")\n",
        "search_num = input(\"enter number you want to search: \")\n",
        "\n",
        "user_input_list = user_num_input.split(' ')\n",
        "print(user_input_list)\n",
        "\n",
        "num_location_list = []\n",
        "for i in range(len(user_input_list)):\n",
        "    if user_input_list[i] == search_num:\n",
        "        num_location_list.append(str(i))    # str(i) otherwise ''.join not join int items\n",
        "\n",
        "all_position = ', '.join(num_location_list)\n",
        "\n",
        "if not num_location_list:\n",
        "    print(f\"'{search_num}' is not present\")\n",
        "else:\n",
        "    print(f\"'{search_num}' is present in these position: {all_position}\")"
      ],
      "metadata": {
        "id": "o3VJLt5tA0LK"
      },
      "execution_count": null,
      "outputs": []
    },
    {
      "cell_type": "markdown",
      "source": [
        "63. Write a program that can create a new list from a given list where each item in the new list is square of the item of the old list"
      ],
      "metadata": {
        "id": "TeOQPGy_A41h"
      }
    },
    {
      "cell_type": "code",
      "source": [
        "user_num_input = input(\"enter numbers separated with space: \")\n",
        "\n",
        "user_input_list = user_num_input.split(' ')\n",
        "print(user_input_list)\n",
        "\n",
        "# def square_func(num):     # second method\n",
        "#     return num ** 2\n",
        "\n",
        "# user_int_num = list(map(int, user_input_list))\n",
        "# new_squared_list = list(map(square_func, user_int_num))\n",
        "\n",
        "def get_square(num_list):\n",
        "    new_list = []\n",
        "    for num in num_list:\n",
        "        num_square = int(num)**2\n",
        "        new_list.append(num_square)\n",
        "    return new_list\n",
        "\n",
        "new_squared_list = get_square(user_input_list)\n",
        "\n",
        "print(f\"squared list: {new_squared_list}\")"
      ],
      "metadata": {
        "id": "2pyWUbUeA8ot"
      },
      "execution_count": null,
      "outputs": []
    },
    {
      "cell_type": "markdown",
      "source": [
        "64. Write a program that can reverse words of a given string.\n",
        "```\n",
        "Eg if the input is Hello how are you\n",
        "Output should be you are how Hello\n",
        "```"
      ],
      "metadata": {
        "id": "0ZsV9TfHVTBJ"
      }
    },
    {
      "cell_type": "code",
      "source": [
        "user_num_input = input(\"enter a string: \")\n",
        "\n",
        "user_input_list = user_num_input.split(' ')\n",
        "# print(user_input_list)\n",
        "\n",
        "reverse_list = user_input_list[::-1]\n",
        "word_join = ' '.join(reverse_list)\n",
        "\n",
        "print(f\"here is reverse string: {word_join}\")"
      ],
      "metadata": {
        "id": "AE1e4hmMVkoQ"
      },
      "execution_count": null,
      "outputs": []
    },
    {
      "cell_type": "markdown",
      "source": [
        "65. Write a program that can count the number of words in a given string"
      ],
      "metadata": {
        "id": "H9GTcUOh95eV"
      }
    },
    {
      "cell_type": "code",
      "source": [
        "user_input = input(\"enter a string (do not give space at the end): \")\n",
        "\n",
        "user_input_list = user_input.split(' ')\n",
        "# print(user_input_list)\n",
        "\n",
        "length = len(user_input_list)\n",
        "print(f\"number of words in string: {length}\")"
      ],
      "metadata": {
        "id": "dGEJj7SrVfH3"
      },
      "execution_count": null,
      "outputs": []
    },
    {
      "cell_type": "markdown",
      "source": [
        "66. Write a program to check if a list is in ascending order or not"
      ],
      "metadata": {
        "id": "kfIOtc4jVfgl"
      }
    },
    {
      "cell_type": "code",
      "source": [
        "user_input = input(\"enter numbers separated with space: \")\n",
        "\n",
        "user_input_list = user_input.split(' ')\n",
        "# print(user_input_list)\n",
        "\n",
        "max_num = 0\n",
        "is_ascending = True\n",
        "\n",
        "for num in user_input_list:\n",
        "    if len(num) == 0:\n",
        "        continue\n",
        "    elif max_num <= int(num):\n",
        "        max_num = int(num)\n",
        "    else:\n",
        "        is_ascending = False\n",
        "\n",
        "if is_ascending:\n",
        "    print(f\"list is in ascending order\")\n",
        "else:\n",
        "    print(\"list is not in ascending order\")"
      ],
      "metadata": {
        "id": "YL4swmWwVjvs"
      },
      "execution_count": null,
      "outputs": []
    },
    {
      "cell_type": "markdown",
      "source": [
        "67. Create 2 lists from a given list where 1st list will contain all the odd numbers from the original list and the 2nd one will contain all the even numbers"
      ],
      "metadata": {
        "id": "RDqiPCLKX5AC"
      }
    },
    {
      "cell_type": "code",
      "source": [
        "user_input = input(\"enter numbers separated with space: \")\n",
        "\n",
        "user_input_list = user_input.split(' ')\n",
        "# print(user_input_list)\n",
        "\n",
        "odd_num_list = []\n",
        "even_num_list = []\n",
        "\n",
        "for num in user_input_list:\n",
        "    if len(num) == 0:\n",
        "        continue\n",
        "    elif int(num) % 2 == 0:\n",
        "        even_num_list.append(num)\n",
        "    else:\n",
        "        odd_num_list.append(num)\n",
        "\n",
        "print(f\"odd number list: {odd_num_list}\\neven number list: {even_num_list}\")"
      ],
      "metadata": {
        "id": "6_0mLXzeX6lt"
      },
      "execution_count": null,
      "outputs": []
    },
    {
      "cell_type": "markdown",
      "source": [
        "68. Write a program to merge 2 list without using the + operator\n",
        "\n"
      ],
      "metadata": {
        "id": "dgXTrQHtX7Cf"
      }
    },
    {
      "cell_type": "code",
      "source": [
        "first_input = input(\"enter first list's items separated with space: \")\n",
        "second_input = input(\"enter second list's items separated with space: \")\n",
        "\n",
        "first_list = first_input.split(' ')\n",
        "second_list = second_input.split(' ')\n",
        "# print(first_list, second_list)\n",
        "\n",
        "for item in second_list:\n",
        "    first_list.append(item)\n",
        "\n",
        "print(f\"here is merged list: {first_list}\")\n"
      ],
      "metadata": {
        "id": "35eKkcTFYBx-"
      },
      "execution_count": null,
      "outputs": []
    },
    {
      "cell_type": "markdown",
      "source": [
        "69. Write a program to replace an item with a different item if found in the list\n"
      ],
      "metadata": {
        "id": "NGgrbQiUYCO9"
      }
    },
    {
      "cell_type": "code",
      "source": [
        "user_input = input(\"enter items separated with space: \")\n",
        "user_replace_item = input(\"enter item you want to replace: \")\n",
        "user_insert_item = input(\"enter item you want to insert: \")\n",
        "\n",
        "user_input_list = user_input.split(' ')\n",
        "# print(user_input_list)\n",
        "\n",
        "is_item_present = False\n",
        "for i in range(len(user_input_list)):\n",
        "    if user_input_list[i] == user_replace_item:\n",
        "        user_input_list[i] = user_input_list[i].replace(user_input_list[i], user_insert_item)\n",
        "        is_item_present = True\n",
        "\n",
        "if is_item_present:\n",
        "    new_sentence = ' '.join(user_input_list)\n",
        "    print(f\"here is new sentence: {new_sentence}\")\n",
        "else:\n",
        "    print(\"item you want to replace is not present\")"
      ],
      "metadata": {
        "id": "ggAwts1rYEaW"
      },
      "execution_count": null,
      "outputs": []
    },
    {
      "cell_type": "markdown",
      "source": [
        "70\\. Write a program that can convert a 2D list to 1D list Write a program that can print"
      ],
      "metadata": {
        "id": "lhzeURp7YEzL"
      }
    },
    {
      "cell_type": "code",
      "source": [],
      "metadata": {
        "id": "x9zxcynTYG__"
      },
      "execution_count": null,
      "outputs": []
    },
    {
      "cell_type": "markdown",
      "source": [
        "71. Write a program that can perform union and intersection on 2 given list."
      ],
      "metadata": {
        "id": "G8UXujYGYHaz"
      }
    },
    {
      "cell_type": "code",
      "source": [
        "first_input = input(\"enter first list's items separated with space: \")\n",
        "second_input = input(\"enter second list's items separated with space: \")\n",
        "\n",
        "first_list = first_input.split(' ')\n",
        "second_list = second_input.split(' ')\n",
        "# print(first_list, second_list)\n",
        "\n",
        "union_list = []\n",
        "union_list += first_list\n",
        "for item in second_list:\n",
        "    if item not in first_list:\n",
        "        union_list.append(item)\n",
        "\n",
        "intersection_list = [item for item in first_list if item in second_list]\n",
        "\n",
        "print(f\"union list: {union_list}\\nintersection list: {intersection_list}\")"
      ],
      "metadata": {
        "id": "nK98B_ATYL9_"
      },
      "execution_count": null,
      "outputs": []
    },
    {
      "cell_type": "markdown",
      "source": [
        "![matrix.png](data:image/png;base64,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)\n",
        "\n",
        "72. the max item of each row of a matrix. for ex: 3, 6 and 9\n",
        "```\n",
        "matrix = [\n",
        "    [1, 2, 3],\n",
        "    [4, 5, 6],\n",
        "    [7, 8, 9]\n",
        "]\n",
        "```"
      ],
      "metadata": {
        "id": "-4i4IPAQ7Mll"
      }
    },
    {
      "cell_type": "code",
      "source": [
        "# check ques-73 to create matrix\n",
        "\n",
        "first_input = input(\"enter first row numbers separated with space: \")\n",
        "second_input = input(\"enter second row numbers separated with space: \")\n",
        "third_input = input(\"enter third row numbers separated with space: \")\n",
        "\n",
        "first_list = first_input.split(' ')\n",
        "second_list = second_input.split(' ')\n",
        "third_list = third_input.split(' ')\n",
        "\n",
        "matrix = [\n",
        "    list(map(int, first_list)),\n",
        "    list(map(int, second_list)),\n",
        "    list(map(int, third_list))\n",
        "]\n",
        "print(f\"matrix: {matrix}\")\n",
        "\n",
        "max_list = []\n",
        "for row in matrix:\n",
        "    num_max = max(row)\n",
        "    max_list.append(num_max)\n",
        "\n",
        "for i in range(len(max_list)):\n",
        "    print(f\"maximum number in row {i+1}: {max_list[i]}\")"
      ],
      "metadata": {
        "id": "HJOpxeGj7UGd"
      },
      "execution_count": null,
      "outputs": []
    },
    {
      "cell_type": "markdown",
      "source": [
        "73. add two matrices. for ex:\n",
        "```\n",
        "[[1, 2, 3], [4, 5, 6], [1, 2, 3]] + [[4, 5, 6], [9, 6, 3], [7, 8, 9]]\n",
        "```"
      ],
      "metadata": {
        "id": "UiKlHSiX_cfF"
      }
    },
    {
      "cell_type": "code",
      "source": [
        "first_matrix = []\n",
        "second_matrix = []\n",
        "\n",
        "is_finished = False\n",
        "while not is_finished:\n",
        "\n",
        "    while True:\n",
        "        row_items = input(\"MATRIX-1; enter row numbers separated with space (type 'end' when matrix complete): \").lower()\n",
        "        if row_items == 'end':\n",
        "            print(f\"total row in first matrix: {len(first_matrix)}\")\n",
        "            break\n",
        "        else:\n",
        "            try:\n",
        "                first_matrix.append(list(map(int, row_items.split(' '))))\n",
        "            except ValueError:\n",
        "                print(\"\\n**This row will not go in matrix. Please enter row data again. Do not put unnecessary space\\n\")\n",
        "    while True:\n",
        "        row_items = input(\"MATRIX-2; enter row numbers separated with space (type 'end' when matrix complete): \").lower()\n",
        "        if row_items == 'end':\n",
        "            print(f\"total row in second matrix: {len(first_matrix)}\")\n",
        "            break\n",
        "        else:\n",
        "            try:\n",
        "                second_matrix.append(list(map(int, row_items.split(' '))))\n",
        "            except ValueError:\n",
        "                print(\"\\nThis row will not go in matrix. Please enter row data again. Do not put space at the end\\n\")\n",
        "    is_finished = True\n",
        "\n",
        "print(f\"matrix 1: {first_matrix} & matrix 2: {second_matrix}\")\n",
        "\n",
        "new_matrix = []\n",
        "for list_num in range(len(first_matrix)):\n",
        "    matrix_row_data = []\n",
        "    for i in range(len(first_matrix[list_num])):\n",
        "        matrix_sum = first_matrix[list_num][i] + second_matrix[list_num][i]\n",
        "        matrix_row_data.append(matrix_sum)\n",
        "\n",
        "    new_matrix.append(matrix_row_data)\n",
        "\n",
        "print(f\"sum of two matrix: {new_matrix}\")"
      ],
      "metadata": {
        "id": "-HmtK0X2MPeS"
      },
      "execution_count": null,
      "outputs": []
    },
    {
      "cell_type": "markdown",
      "source": [
        "74. Write a program to print the shape of a matrix."
      ],
      "metadata": {
        "id": "wKWGq01NfS2Y"
      }
    },
    {
      "cell_type": "code",
      "source": [
        "matrix = []\n",
        "\n",
        "is_finished = False\n",
        "while not is_finished:\n",
        "\n",
        "    while True:\n",
        "        row_items = input(\"MATRIX-1; enter row numbers separated with space (type 'end' when matrix complete): \").lower()\n",
        "        if row_items == 'end':\n",
        "            print(f\"total row in first matrix: {len(matrix)}\")\n",
        "            break\n",
        "        else:\n",
        "            try:\n",
        "                matrix.append(row_items.split(' '))\n",
        "            except ValueError:\n",
        "                print(\"\\n**This row will not go in matrix. Please enter row data again. Do not put unnecessary space\\n\")\n",
        "    is_finished = True\n",
        "\n",
        "print(f\"matrix 1: {matrix}\")\n",
        "\n",
        "rows = len(matrix)\n",
        "columns = len(matrix[0])    # assuming all rows have same length\n",
        "print(f\"shape of matrix (rows * columns): {rows, columns}\")"
      ],
      "metadata": {
        "id": "TVtjwlpqfbbr"
      },
      "execution_count": null,
      "outputs": []
    },
    {
      "cell_type": "markdown",
      "source": [
        "75. Write a program that can check if you can perform matrix multiplication on 2 matrices\n",
        "\n",
        "```\n",
        "number of columns in the 1st matrix should be equal to the rows in the 2nd matrix.\n",
        "[[1, 2, 3]] + [[4], [5], [6]]\n",
        "```"
      ],
      "metadata": {
        "id": "A0HRiV_phYWy"
      }
    },
    {
      "cell_type": "code",
      "source": [
        "first_matrix = []\n",
        "second_matrix = []\n",
        "\n",
        "is_finished = False\n",
        "while not is_finished:\n",
        "\n",
        "    while True:\n",
        "        row_items = input(\"MATRIX-1; enter row numbers separated with space (type 'end' when matrix complete): \").lower()\n",
        "        if row_items == 'end':\n",
        "            print(f\"total row in first matrix: {len(first_matrix)}\")\n",
        "            break\n",
        "        else:\n",
        "            try:\n",
        "                first_matrix.append(row_items.split(' '))\n",
        "            except ValueError:\n",
        "                print(\"\\n**This row will not go in matrix. Please enter row data again. Do not put unnecessary space\\n\")\n",
        "    while True:\n",
        "        row_items = input(\"MATRIX-2; enter row numbers separated with space (type 'end' when matrix complete): \").lower()\n",
        "        if row_items == 'end':\n",
        "            print(f\"total row in second matrix: {len(first_matrix)}\")\n",
        "            break\n",
        "        else:\n",
        "            try:\n",
        "                second_matrix.append(row_items.split(' '))\n",
        "            except ValueError:\n",
        "                print(\"\\nThis row will not go in matrix. Please enter row data again. Do not put space at the end\\n\")\n",
        "    is_finished = True\n",
        "\n",
        "print(f\"matrix 1: {first_matrix} & matrix 2: {second_matrix}\")\n",
        "\n",
        "first_matrix_rows = len(first_matrix)\n",
        "first_matrix_columns = len(first_matrix[0])\n",
        "second_matrix_rows = len(second_matrix)\n",
        "second_matrix_columns = len(second_matrix[0])\n",
        "\n",
        "if first_matrix_columns == second_matrix_rows:\n",
        "    print(f\"matrix multiplication is possible and resulted matrix's shape will be (rows, column): {(first_matrix_rows, second_matrix_columns)}\")\n",
        "else:\n",
        "    print(\"matrix multiplication not possible\")"
      ],
      "metadata": {
        "id": "3oE4USd1hc9H"
      },
      "execution_count": null,
      "outputs": []
    },
    {
      "cell_type": "markdown",
      "source": [
        "76. Write a program to perform matrix multiplication on 2 matrices"
      ],
      "metadata": {
        "id": "1JgYoeijyzqM"
      }
    },
    {
      "cell_type": "code",
      "source": [
        "first_matrix = []\n",
        "second_matrix = []\n",
        "\n",
        "is_finished = False\n",
        "while not is_finished:\n",
        "\n",
        "    while True:\n",
        "        row_items = input(\"MATRIX-1; enter row numbers separated with space (type 'end' when matrix complete): \").lower()\n",
        "        if row_items == 'end':\n",
        "            print(f\"shape of first matrix(row, column): {(len(first_matrix), len(first_matrix[0]))}\")\n",
        "            break\n",
        "        else:\n",
        "            try:\n",
        "                first_matrix.append(list(map(int, row_items.split(' '))))\n",
        "            except ValueError:\n",
        "                print(\"\\n**This row will not go in matrix. Please enter row data again. Do not put unnecessary space\\n\")\n",
        "    while True:\n",
        "        row_items = input(\"MATRIX-2; enter row numbers separated with space (type 'end' when matrix complete): \").lower()\n",
        "        if row_items == 'end':\n",
        "            print(f\"shape of second matrix(row, column): {(len(second_matrix), len(second_matrix[0]))}\")\n",
        "            break\n",
        "        else:\n",
        "            try:\n",
        "                second_matrix.append(list(map(int, row_items.split(' '))))\n",
        "            except ValueError:\n",
        "                print(\"\\nThis row will not go in matrix. Please enter row data again. Do not put space at the end\\n\")\n",
        "    is_finished = True\n",
        "\n",
        "# first_matrix = [[1], [2], [3]]  # test example pair\n",
        "# second_matrix = [[1, 2, 3]]\n",
        "\n",
        "# first_matrix = [[3, 2], [1, 4], [5, 3]]     # test example pair\n",
        "# second_matrix = [[3, 2], [1, 4]]\n",
        "\n",
        "# first_matrix = [[1, 2, 3], [4, 5, 6], [1, 2, 3]]     # test example pair\n",
        "# second_matrix = [[4, 5, 6], [9, 6, 3], [7, 8, 9]]\n",
        "\n",
        "print(f\"\\nmatrix 1: {first_matrix} & matrix 2: {second_matrix}\")\n",
        "\n",
        "first_matrix_rows = len(first_matrix)\n",
        "first_matrix_columns = len(first_matrix[0])\n",
        "second_matrix_rows = len(second_matrix)\n",
        "second_matrix_columns = len(second_matrix[0])\n",
        "\n",
        "if first_matrix_columns == second_matrix_rows:\n",
        "    print(f\"matrix multiplication is possible and new matrix's shape will be (rows, column): {(first_matrix_rows, second_matrix_columns)}\")\n",
        "    new_matrix = []\n",
        "    for i in range(len(first_matrix)):      # total rows\n",
        "        row_list = []\n",
        "        for j in range(len(second_matrix[0])):   # element in a row in second list\n",
        "            data_sum = 0\n",
        "            for k in range(len(first_matrix[0])):   # element in single list\n",
        "                row_data = first_matrix[i][k] * second_matrix[k][j]\n",
        "                data_sum += row_data\n",
        "            row_list.append(data_sum)\n",
        "        print(row_list)\n",
        "        new_matrix.append(row_list)\n",
        "    print(f\"here is final matrix: {new_matrix}\")\n",
        "\n",
        "else:\n",
        "    print(\"matrix multiplication not possible\")\n",
        "\n",
        "    # analyse this and then code:\n",
        "    # first_row = [[\n",
        "    #         first_matrix[0][0] * second_matrix[0][0] +\n",
        "    #         first_matrix[0][1] * second_matrix[1][0] +\n",
        "    #         first_matrix[0][2] * second_matrix[2][0],\n",
        "\n",
        "    #         first_matrix[0][0] * second_matrix[0][1] +\n",
        "    #         first_matrix[0][1] * second_matrix[1][1] +\n",
        "    #         first_matrix[0][2] * second_matrix[2][1],\n",
        "\n",
        "    #         first_matrix[0][0] * second_matrix[0][2] +\n",
        "    #         first_matrix[0][1] * second_matrix[1][2] +\n",
        "    #         first_matrix[0][2] * second_matrix[2][2]\n",
        "    #     ] ]\n"
      ],
      "metadata": {
        "id": "Ll6TSTyuy1Oe"
      },
      "execution_count": null,
      "outputs": []
    }
  ],
  "metadata": {
    "colab": {
      "provenance": [],
      "authorship_tag": "ABX9TyMHEwQjUPERPNj/eIoBzZkX",
      "include_colab_link": true
    },
    "kernelspec": {
      "display_name": "Python 3",
      "name": "python3"
    },
    "language_info": {
      "name": "python"
    }
  },
  "nbformat": 4,
  "nbformat_minor": 0
}